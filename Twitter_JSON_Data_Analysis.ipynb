{
  "cells": [
    {
      "cell_type": "markdown",
      "id": "d0a1fa6c",
      "metadata": {
        "id": "d0a1fa6c"
      },
      "source": [
        "<font size=\"+3\">\n",
        "    <b>Working with JSON Data</b>\n",
        "</font>"
      ]
    },
    {
      "cell_type": "markdown",
      "id": "d1d700d5",
      "metadata": {
        "id": "d1d700d5"
      },
      "source": [
        "<h1>Instructions</h1>\n",
        "<br>\n",
        "<font size=\"+1\" style=\"color:dodgerblue\">\n",
        "    <ul>\n",
        "        <li>There are questions in this assignment that are intentionally vague. You are to use your best judgment to decide the best way to answer the question.</li>\n",
        "        <br>\n",
        "        <li>Explain your answers as best as you can.</li>\n",
        "        <br>\n",
        "        <li>Note some of the keys that are asked about in this assignment, which were used in our in-class Twitter data, might not be in this version of Twitter API-generated dataset.</li>\n",
        "        <br>\n",
        "        <ul>\n",
        "            <li>This is something that often happens in databases within companies.</li>\n",
        "            <br>\n",
        "            <li>Your job as a data analyst or data scientist, or someone managing a team of analysts, is to decide on a game plan for answering the questions with the given data that you do have.</li>\n",
        "            <br>\n",
        "            <li>It is possible that there isn't a good solution, and the solution is to talk to the data vendor to get different data capable of answering the question. </li>\n",
        "            <br>\n",
        "            <li>However, sometimes it is possible to get a sufficient answer if you think outside of the box.</li>\n",
        "            <br>\n",
        "            <li>The most important thing is you explain what you did, and how that helps solve the question, at least to a first approximation.</li>\n",
        "            <br>\n",
        "            <li>For example, if there isn't data telling you the Tweet has been truncated, how could you use the text to give an answer that is right some percentage of the time? </li>\n",
        "            <br>\n",
        "            <li>One might consider if ellipses are at the end of the Tweet, and/or if the length of the Tweet is at its maximal length, and/or if ellipses are at the beginning as well as the end of the Tweet, etc.</li>\n",
        "            <br>\n",
        "        </ul>\n",
        "         <li style=\"color:red\">Submit the <i>.ipynb</i> file on TurnItIn on Blackboard by the deadline. Be sure to refresh the page and double check your submission actually went through. <b>Note that you only need to submit your solutions, not all of the other recommended steps.</b> The recommended steps are meant to serve as a guide for your thinking process.</li>\n",
        "            <br>\n",
        "        </ol>\n",
        "        <br>\n",
        "        <hr style=\"border: 10px solid black\">\n",
        "        <br>\n",
        "        <li style=\"color:black\"><b>Grading</b></li>\n",
        "        <br>\n",
        "        <li style=\"color:black\">There are four possible scores you can get from submitting this assignment on time (submitting a blank file or one without any apparent effort does not count). Note that the rubric is designed to incentivize you to go for $100%$ mastery of the material, as the little details matter in programming.</li>\n",
        "        <br>\n",
        "        <ul style=\"color:black\">\n",
        "            <li>Grade of $5$ out of $5$ - perfect submission with no significant errors</li>\n",
        "            <br>\n",
        "            <li>Grade of $4$ out of $5$ - near perfect submission with one or more significant errors</li>\n",
        "            <br>\n",
        "            <li>Grade of $2$ out of $5$ - apparent effort but far from perfect</li>\n",
        "            <br>\n",
        "            <li>Grade of $0$ out of $5$ - no submission or no apparent effort</li>\n",
        "            <br>\n",
        "        </ul>\n",
        "    </ul>\n",
        "</font>\n",
        "\n",
        "$\\square$"
      ]
    },
    {
      "cell_type": "markdown",
      "id": "0fb4a4c0",
      "metadata": {
        "id": "0fb4a4c0"
      },
      "source": [
        "$\\rule{800pt}{20pt}$"
      ]
    },
    {
      "cell_type": "markdown",
      "id": "4a57d36f",
      "metadata": {
        "id": "4a57d36f"
      },
      "source": [
        "<h1>Before You Begin</h1>\n",
        "<br>\n",
        "<font size=\"+1\">\n",
        "    <ul>\n",
        "        <li>Please read: <b>04_Python_and_Twitter_Data.ipynb</b></li>\n",
        "        <br>\n",
        "    </ul>\n",
        "</font>"
      ]
    },
    {
      "cell_type": "markdown",
      "id": "53e2370d",
      "metadata": {
        "id": "53e2370d"
      },
      "source": [
        "$\\rule{800pt}{20pt}$"
      ]
    },
    {
      "cell_type": "markdown",
      "id": "3efebc84",
      "metadata": {
        "id": "3efebc84"
      },
      "source": [
        "<h1>Imports</h1>"
      ]
    },
    {
      "cell_type": "code",
      "execution_count": 2,
      "id": "49179a2c",
      "metadata": {
        "id": "49179a2c"
      },
      "outputs": [],
      "source": [
        "import os\n",
        "import time\n",
        "\n",
        "import json\n",
        "import datetime\n",
        "\n",
        "import pandas as pd"
      ]
    },
    {
      "cell_type": "markdown",
      "id": "e26b65de",
      "metadata": {
        "id": "e26b65de"
      },
      "source": [
        "<h1>Twitter API v2</h1>\n",
        "\n",
        "<a href=\"https://developer.twitter.com/en/docs/twitter-api/data-dictionary/object-model/tweet\">Twitter API v2 Data Dictionary</a>"
      ]
    },
    {
      "cell_type": "code",
      "execution_count": 3,
      "id": "cbe393cb",
      "metadata": {
        "id": "cbe393cb",
        "outputId": "ffb72a55-9cbf-48c7-b798-2f2cc380118b",
        "colab": {
          "base_uri": "https://localhost:8080/"
        }
      },
      "outputs": [
        {
          "output_type": "stream",
          "name": "stdout",
          "text": [
            "Mounted at /content/drive\n"
          ]
        }
      ],
      "source": [
        "from google.colab import drive\n",
        "drive.mount('/content/drive')\n",
        "\n",
        "# Set the data path\n",
        "data_path = '/content/drive/My Drive/DSO559/'"
      ]
    },
    {
      "cell_type": "code",
      "execution_count": 4,
      "id": "99a4dd87",
      "metadata": {
        "id": "99a4dd87"
      },
      "outputs": [],
      "source": [
        "# Opening JSON file\n",
        "file = open(os.path.join(data_path, 'Copy of twitter_data_v2_api.json'), 'r')\n",
        "\n",
        "# Returns JSON object as a dictionary\n",
        "data = json.load(file)\n",
        "\n",
        "# Closing file\n",
        "file.close()"
      ]
    },
    {
      "cell_type": "markdown",
      "id": "d3e42405",
      "metadata": {
        "id": "d3e42405"
      },
      "source": [
        "<h2>What are the keys to this data dictionary?</h2>"
      ]
    },
    {
      "cell_type": "code",
      "execution_count": 5,
      "id": "b91ed71d",
      "metadata": {
        "scrolled": true,
        "id": "b91ed71d",
        "colab": {
          "base_uri": "https://localhost:8080/"
        },
        "outputId": "321eb875-d0c9-49aa-c1f5-652d6a0514e0"
      },
      "outputs": [
        {
          "output_type": "execute_result",
          "data": {
            "text/plain": [
              "{'data': [{'id': '1212092628029698048',\n",
              "   'text': 'We believe the best future version of our API will come from building it with YOU. Here’s to another great year with everyone who builds on the Twitter platform. We can’t wait to continue working with you in the new year. https://t.co/yvxdK6aOo2',\n",
              "   'possibly_sensitive': False,\n",
              "   'referenced_tweets': [{'type': 'replied_to', 'id': '1212092627178287104'}],\n",
              "   'entities': {'urls': [{'start': 222,\n",
              "      'end': 245,\n",
              "      'url': 'https://t.co/yvxdK6aOo2',\n",
              "      'expanded_url': 'https://twitter.com/LovesNandos/status/1211797914437259264/photo/1',\n",
              "      'display_url': 'pic.twitter.com/yvxdK6aOo2'}],\n",
              "    'annotations': [{'start': 144,\n",
              "      'end': 150,\n",
              "      'probability': 0.626,\n",
              "      'type': 'Product',\n",
              "      'normalized_text': 'Twitter'}]},\n",
              "   'author_id': '2244994945',\n",
              "   'public_metrics': {'retweet_count': 8,\n",
              "    'reply_count': 2,\n",
              "    'like_count': 40,\n",
              "    'quote_count': 1},\n",
              "   'lang': 'en',\n",
              "   'created_at': '2019-12-31T19:26:16.000Z',\n",
              "   'source': 'Twitter Web App',\n",
              "   'in_reply_to_user_id': '2244994945',\n",
              "   'attachments': {'media_keys': ['16_1211797899316740096']},\n",
              "   'context_annotations': [{'domain': {'id': '119',\n",
              "      'name': 'Holiday',\n",
              "      'description': 'Holidays like Christmas or Halloween'},\n",
              "     'entity': {'id': '1186637514896920576', 'name': ' New Years Eve'}},\n",
              "    {'domain': {'id': '119',\n",
              "      'name': 'Holiday',\n",
              "      'description': 'Holidays like Christmas or Halloween'},\n",
              "     'entity': {'id': '1206982436287963136',\n",
              "      'name': 'Happy New Year: It’s finally 2020 everywhere!',\n",
              "      'description': 'Catch fireworks and other celebrations as people across the globe enter the new year.\\nPhoto via @GettyImages '}},\n",
              "    {'domain': {'id': '46',\n",
              "      'name': 'Brand Category',\n",
              "      'description': 'Categories within Brand Verticals that narrow down the scope of Brands'},\n",
              "     'entity': {'id': '781974596752842752', 'name': 'Services'}},\n",
              "    {'domain': {'id': '47',\n",
              "      'name': 'Brand',\n",
              "      'description': 'Brands and Companies'},\n",
              "     'entity': {'id': '10045225402', 'name': 'Twitter'}},\n",
              "    {'domain': {'id': '119',\n",
              "      'name': 'Holiday',\n",
              "      'description': 'Holidays like Christmas or Halloween'},\n",
              "     'entity': {'id': '1206982436287963136',\n",
              "      'name': 'Happy New Year: It’s finally 2020 everywhere!',\n",
              "      'description': 'Catch fireworks and other celebrations as people across the globe enter the new year.\\nPhoto via @GettyImages '}}]}],\n",
              " 'includes': {'tweets': [{'possibly_sensitive': False,\n",
              "    'referenced_tweets': [{'type': 'replied_to', 'id': '1212092626247110657'}],\n",
              "    'text': 'These launches would not be possible without the feedback you provided along the way, so THANK YOU to everyone who has contributed your time and ideas. Have more feedback? Let us know ⬇️ https://t.co/Vxp4UKnuJ9',\n",
              "    'entities': {'urls': [{'start': 187,\n",
              "       'end': 210,\n",
              "       'url': 'https://t.co/Vxp4UKnuJ9',\n",
              "       'expanded_url': 'https://twitterdevfeedback.uservoice.com/forums/921790-twitter-developer-labs',\n",
              "       'display_url': 'twitterdevfeedback.uservoice.com/forums/921790-…',\n",
              "       'images': [{'url': 'https://pbs.twimg.com/news_img/1261301555787108354/9yR4UVsa?format=png&name=orig',\n",
              "         'width': 100,\n",
              "         'height': 100},\n",
              "        {'url': 'https://pbs.twimg.com/news_img/1261301555787108354/9yR4UVsa?format=png&name=150x150',\n",
              "         'width': 100,\n",
              "         'height': 100}],\n",
              "       'status': 200,\n",
              "       'title': 'Twitter Developer Feedback',\n",
              "       'description': 'Share your feedback for the Twitter developer platform',\n",
              "       'unwound_url': 'https://twitterdevfeedback.uservoice.com/forums/921790-twitter-developer-labs'}]},\n",
              "    'author_id': '2244994945',\n",
              "    'public_metrics': {'retweet_count': 3,\n",
              "     'reply_count': 1,\n",
              "     'like_count': 17,\n",
              "     'quote_count': 0},\n",
              "    'lang': 'en',\n",
              "    'created_at': '2019-12-31T19:26:16.000Z',\n",
              "    'source': 'Twitter Web App',\n",
              "    'in_reply_to_user_id': '2244994945',\n",
              "    'id': '1212092627178287104'}]}}"
            ]
          },
          "metadata": {},
          "execution_count": 5
        }
      ],
      "source": [
        "data\n"
      ]
    },
    {
      "cell_type": "code",
      "execution_count": 6,
      "id": "3a634530",
      "metadata": {
        "id": "3a634530",
        "colab": {
          "base_uri": "https://localhost:8080/"
        },
        "outputId": "145e5bb9-4a89-4831-9b51-11e165ceebbb"
      },
      "outputs": [
        {
          "output_type": "execute_result",
          "data": {
            "text/plain": [
              "dict_keys(['data', 'includes'])"
            ]
          },
          "metadata": {},
          "execution_count": 6
        }
      ],
      "source": [
        "data.keys()"
      ]
    },
    {
      "cell_type": "code",
      "source": [
        "#data[\"data\"] is a list that includes a dictionary, the keys in data[\"data\"] is:\n",
        "for key in data[\"data\"][0].keys():\n",
        "    print(\"=======================\")\n",
        "    print(key)\n",
        "\n"
      ],
      "metadata": {
        "colab": {
          "base_uri": "https://localhost:8080/"
        },
        "id": "yh4cC9e8qR8l",
        "outputId": "8e1334f5-a3b7-4b0f-c95a-826f8892fe58"
      },
      "id": "yh4cC9e8qR8l",
      "execution_count": 17,
      "outputs": [
        {
          "output_type": "stream",
          "name": "stdout",
          "text": [
            "=======================\n",
            "id\n",
            "=======================\n",
            "text\n",
            "=======================\n",
            "possibly_sensitive\n",
            "=======================\n",
            "referenced_tweets\n",
            "=======================\n",
            "entities\n",
            "=======================\n",
            "author_id\n",
            "=======================\n",
            "public_metrics\n",
            "=======================\n",
            "lang\n",
            "=======================\n",
            "created_at\n",
            "=======================\n",
            "source\n",
            "=======================\n",
            "in_reply_to_user_id\n",
            "=======================\n",
            "attachments\n",
            "=======================\n",
            "context_annotations\n"
          ]
        }
      ]
    },
    {
      "cell_type": "code",
      "source": [
        "#examine nested values:\n",
        "data_keys=data[\"data\"][0].keys()\n",
        "keys_with_more_info = [key for key in data_keys if type(data[\"data\"][0][key]) == dict]\n",
        "\n",
        "keys_with_more_info"
      ],
      "metadata": {
        "colab": {
          "base_uri": "https://localhost:8080/"
        },
        "id": "kL2kBBqRvhs5",
        "outputId": "f04050c5-89fe-46ed-cb6b-9403bd7b1cad"
      },
      "id": "kL2kBBqRvhs5",
      "execution_count": 54,
      "outputs": [
        {
          "output_type": "execute_result",
          "data": {
            "text/plain": [
              "['entities', 'public_metrics', 'attachments']"
            ]
          },
          "metadata": {},
          "execution_count": 54
        }
      ]
    },
    {
      "cell_type": "code",
      "source": [
        "#keys in data[\"includes']\n",
        "for key in data[\"includes\"].keys():\n",
        "    print(\"=======================\")\n",
        "    print(key)\n",
        ""
      ],
      "metadata": {
        "colab": {
          "base_uri": "https://localhost:8080/"
        },
        "id": "WEAqSzfViHH2",
        "outputId": "6a050189-d595-477f-9b9c-9631ebad9918"
      },
      "id": "WEAqSzfViHH2",
      "execution_count": 19,
      "outputs": [
        {
          "output_type": "stream",
          "name": "stdout",
          "text": [
            "=======================\n",
            "tweets\n"
          ]
        }
      ]
    },
    {
      "cell_type": "code",
      "source": [
        "#Tweets is a nested dictionary, the keys in Tweets are:\n",
        "data[\"includes\"][\"tweets\"][0].keys()"
      ],
      "metadata": {
        "colab": {
          "base_uri": "https://localhost:8080/"
        },
        "id": "4rE6Fi7ajBV8",
        "outputId": "e9bd9840-02ff-40d4-c002-192d3940b67a"
      },
      "id": "4rE6Fi7ajBV8",
      "execution_count": 24,
      "outputs": [
        {
          "output_type": "execute_result",
          "data": {
            "text/plain": [
              "dict_keys(['possibly_sensitive', 'referenced_tweets', 'text', 'entities', 'author_id', 'public_metrics', 'lang', 'created_at', 'source', 'in_reply_to_user_id', 'id'])"
            ]
          },
          "metadata": {},
          "execution_count": 24
        }
      ]
    },
    {
      "cell_type": "code",
      "source": [
        "#examine nested values in data[\"includes\"][\"tweets\"]\n",
        "data_keys2=data[\"includes\"][\"tweets\"][0].keys()\n",
        "keys_with_more_info2 = [key for key in data_keys2 if type(data[\"includes\"][\"tweets\"][0][key]) == dict]\n",
        "\n",
        "keys_with_more_info2"
      ],
      "metadata": {
        "colab": {
          "base_uri": "https://localhost:8080/"
        },
        "id": "IelkUrDIwShI",
        "outputId": "566f94e6-7728-41b7-e722-2a1f5a5a9bad"
      },
      "id": "IelkUrDIwShI",
      "execution_count": 47,
      "outputs": [
        {
          "output_type": "execute_result",
          "data": {
            "text/plain": [
              "['entities', 'public_metrics']"
            ]
          },
          "metadata": {},
          "execution_count": 47
        }
      ]
    },
    {
      "cell_type": "markdown",
      "source": [],
      "metadata": {
        "id": "lP3aoKLiiGx-"
      },
      "id": "lP3aoKLiiGx-"
    },
    {
      "cell_type": "markdown",
      "id": "aa22f5a4",
      "metadata": {
        "id": "aa22f5a4"
      },
      "source": [
        "<h2>How many \"phrases\" are in the Tweet?</h2>\n",
        "<font size=\"+1\">\n",
        "    <br>\n",
        "    I'm thinking of a phrase as a generalized word. More specifically, something separated by a blank space.\n",
        "</font>"
      ]
    },
    {
      "cell_type": "code",
      "execution_count": 36,
      "id": "5947f555",
      "metadata": {
        "scrolled": true,
        "id": "5947f555",
        "colab": {
          "base_uri": "https://localhost:8080/"
        },
        "outputId": "3d3c923f-9809-4440-b52e-2c1daa5a9d11"
      },
      "outputs": [
        {
          "output_type": "execute_result",
          "data": {
            "text/plain": [
              "42"
            ]
          },
          "metadata": {},
          "execution_count": 36
        }
      ],
      "source": [
        "#number of phrases include hyperlink\n",
        "Tweet_text=data[\"data\"][0][\"text\"]\n",
        "Tweet_text\n",
        "num_of_phrases=len(Tweet_text.split(\" \"))\n",
        "num_of_phrases\n"
      ]
    },
    {
      "cell_type": "code",
      "source": [
        "#number of words exclude hyperlink\n",
        "words = Tweet_text.split()\n",
        "if words[-1].startswith('http://') or words[-1].startswith('https://'):\n",
        "    words = words[:-1]\n",
        "Tweet_text_without_link = ' '.join(words)\n",
        "Tweet_text_without_link\n",
        "num_of_phrases=len(Tweet_text_without_link.split(\" \"))\n",
        "num_of_phrases"
      ],
      "metadata": {
        "colab": {
          "base_uri": "https://localhost:8080/"
        },
        "id": "eJ_988AwuKod",
        "outputId": "33ed3633-8dfe-48c0-9004-424713c99d6b"
      },
      "id": "eJ_988AwuKod",
      "execution_count": 40,
      "outputs": [
        {
          "output_type": "execute_result",
          "data": {
            "text/plain": [
              "41"
            ]
          },
          "metadata": {},
          "execution_count": 40
        }
      ]
    },
    {
      "cell_type": "markdown",
      "id": "eb16bd8a",
      "metadata": {
        "id": "eb16bd8a"
      },
      "source": [
        "<h2>Is the Tweet truncated?</h2>\n",
        "<br>\n",
        "<font size=\"+1\" style=\"color:dodgerblue\">\n",
        "    <ul>\n",
        "        <li>This question requires some judgement.</li>\n",
        "        <br>\n",
        "        <li>In this new version of data, there isn't a keyword that directly tells if the tweet is truncated.</li>\n",
        "        <br>\n",
        "        <li>You must exercise judgment determining if a Tweet is truncated.</li>\n",
        "        <br>\n",
        "        <li><a href=\"https://arxiv.org/abs/2009.07661#:~:text=In%20November%202017%2C%20Twitter%20doubled,most%20influential%20social%20media%20platforms.\">Tweet length doubled from 140 to 280.</a></li>\n",
        "        <br>\n",
        "        <li>It is likely we cannot have a definitive 'yes' or 'no' to the question, but rather a likelihood associated with the outcome.</li>\n",
        "        <br>\n",
        "    </ul>\n",
        "</font>"
      ]
    },
    {
      "cell_type": "code",
      "execution_count": 95,
      "id": "34d17ffc",
      "metadata": {
        "id": "34d17ffc",
        "colab": {
          "base_uri": "https://localhost:8080/"
        },
        "outputId": "b5dd0ec6-841b-4479-9f1a-b23246edf4c2"
      },
      "outputs": [
        {
          "output_type": "stream",
          "name": "stdout",
          "text": [
            "This Tweet is very likely not truncated\n"
          ]
        }
      ],
      "source": [
        "def if_truncated(text):\n",
        "  if len(text.split(\" \")) > 280 or (text.split(\" \")==\"...\"):\n",
        "    print(\"This Tweet is very likely truncated\")\n",
        "  else:\n",
        "    print(\"This Tweet is very likely not truncated\")\n",
        "  return None\n",
        "if_truncated(Tweet_text)"
      ]
    },
    {
      "cell_type": "code",
      "execution_count": null,
      "id": "ec737541",
      "metadata": {
        "id": "ec737541"
      },
      "outputs": [],
      "source": []
    },
    {
      "cell_type": "code",
      "execution_count": null,
      "id": "d26d52c2",
      "metadata": {
        "id": "d26d52c2"
      },
      "outputs": [],
      "source": []
    },
    {
      "cell_type": "code",
      "execution_count": null,
      "id": "8ba78614",
      "metadata": {
        "id": "8ba78614"
      },
      "outputs": [],
      "source": []
    },
    {
      "cell_type": "code",
      "execution_count": null,
      "id": "37dd9350",
      "metadata": {
        "id": "37dd9350"
      },
      "outputs": [],
      "source": []
    },
    {
      "cell_type": "markdown",
      "id": "a4b07c26",
      "metadata": {
        "id": "a4b07c26"
      },
      "source": [
        "<h2>How many Twitter accounts are tagged in the Tweet?</h2>"
      ]
    },
    {
      "cell_type": "code",
      "execution_count": 30,
      "id": "8cb36f4a",
      "metadata": {
        "id": "8cb36f4a",
        "colab": {
          "base_uri": "https://localhost:8080/"
        },
        "outputId": "996e6b56-6030-4cd0-8c7e-7ac1e5d1e91e"
      },
      "outputs": [
        {
          "output_type": "execute_result",
          "data": {
            "text/plain": [
              "0"
            ]
          },
          "metadata": {},
          "execution_count": 30
        }
      ],
      "source": [
        "num_tagged=Tweet_text.count(\"@\")\n",
        "num_tagged"
      ]
    },
    {
      "cell_type": "markdown",
      "id": "7edb701d",
      "metadata": {
        "id": "7edb701d"
      },
      "source": [
        "<h2>How many punctuation symbols are in the Tweet?</h2>"
      ]
    },
    {
      "cell_type": "code",
      "execution_count": 41,
      "id": "12fdeb06",
      "metadata": {
        "id": "12fdeb06",
        "colab": {
          "base_uri": "https://localhost:8080/"
        },
        "outputId": "30b5e6f9-8192-4322-8231-d333cbd8d3f8"
      },
      "outputs": [
        {
          "output_type": "execute_result",
          "data": {
            "text/plain": [
              "3"
            ]
          },
          "metadata": {},
          "execution_count": 41
        }
      ],
      "source": [
        "#punctuation synbol number excluding the hyperlink\n",
        "punctuation_symbols = [\"'\", '\"', '.', ',', ':', ';', '?', '!']\n",
        "num_punctuation=sum([Tweet_text_without_link.count(punctuation) for punctuation in punctuation_symbols])\n",
        "num_punctuation"
      ]
    },
    {
      "cell_type": "markdown",
      "id": "43591009",
      "metadata": {
        "id": "43591009"
      },
      "source": [
        "<h2>Has this Tweet been favorited?</h2>"
      ]
    },
    {
      "cell_type": "code",
      "execution_count": 52,
      "id": "3512a21e",
      "metadata": {
        "id": "3512a21e",
        "colab": {
          "base_uri": "https://localhost:8080/"
        },
        "outputId": "0a9726a9-1917-48ec-d607-35603d2af57c"
      },
      "outputs": [
        {
          "output_type": "stream",
          "name": "stdout",
          "text": [
            "This Tweet has been favorited, the favorite count is 40.\n"
          ]
        }
      ],
      "source": [
        "favorite_num=data[\"data\"][0][\"public_metrics\"][\"like_count\"]\n",
        "if favorite_num != 0:\n",
        "  print(f\"This Tweet has been favorited, the favorite count is {favorite_num}.\")\n",
        "else:\n",
        "  print(\"This Tweet has not been favorited.\")"
      ]
    },
    {
      "cell_type": "markdown",
      "id": "c13aae50",
      "metadata": {
        "id": "c13aae50"
      },
      "source": [
        "<h2>Is this Tweet in reply to another Tweet?</h2>"
      ]
    },
    {
      "cell_type": "code",
      "execution_count": 55,
      "id": "7eea37bc",
      "metadata": {
        "id": "7eea37bc",
        "colab": {
          "base_uri": "https://localhost:8080/"
        },
        "outputId": "d6a9c509-b03c-425c-cb5d-6f045ebedc27"
      },
      "outputs": [
        {
          "output_type": "stream",
          "name": "stdout",
          "text": [
            "The Tweet is replying to another Tweet.\n"
          ]
        }
      ],
      "source": [
        "if data[\"data\"][0][\"in_reply_to_user_id\"] is not None:\n",
        "  print(\"The Tweet is replying to another Tweet.\")\n",
        "else:\n",
        "  print(\"The Tweet is not replying to another Tweet.\")"
      ]
    },
    {
      "cell_type": "markdown",
      "id": "1b9c05fa",
      "metadata": {
        "id": "1b9c05fa"
      },
      "source": [
        "<h2>What was the source of this Tweet?</h2>\n",
        "<font size=\"+1\">\n",
        "    <br>\n",
        "    What was the app the user tweeted from: a web browser, a mobile device, or some other app?\n",
        "</font>"
      ]
    },
    {
      "cell_type": "code",
      "execution_count": 56,
      "id": "6bab160b",
      "metadata": {
        "id": "6bab160b",
        "colab": {
          "base_uri": "https://localhost:8080/",
          "height": 35
        },
        "outputId": "c73a2091-0df4-418c-df84-c8388309c478"
      },
      "outputs": [
        {
          "output_type": "execute_result",
          "data": {
            "text/plain": [
              "'Twitter Web App'"
            ],
            "application/vnd.google.colaboratory.intrinsic+json": {
              "type": "string"
            }
          },
          "metadata": {},
          "execution_count": 56
        }
      ],
      "source": [
        "data[\"data\"][0][\"source\"]"
      ]
    },
    {
      "cell_type": "markdown",
      "id": "56772c04",
      "metadata": {
        "id": "56772c04"
      },
      "source": [
        "<h2>Has this Tweet been retweeted?</h2>"
      ]
    },
    {
      "cell_type": "code",
      "execution_count": 58,
      "id": "1370c09d",
      "metadata": {
        "id": "1370c09d",
        "colab": {
          "base_uri": "https://localhost:8080/"
        },
        "outputId": "0c4e1759-b4f9-4771-df3c-262d15d17ca3"
      },
      "outputs": [
        {
          "output_type": "stream",
          "name": "stdout",
          "text": [
            "This Tweet has been retweeted, the retweet number is 8.\n"
          ]
        }
      ],
      "source": [
        "retweet_num=data[\"data\"][0][\"public_metrics\"][\"retweet_count\"]\n",
        "if retweet_num != 0:\n",
        "  print(f\"This Tweet has been retweeted, the retweet number is {retweet_num}.\")\n",
        "else:\n",
        "  print(\"This Tweet has not been retweeted.\")"
      ]
    },
    {
      "cell_type": "markdown",
      "id": "6e1c8fa2",
      "metadata": {
        "id": "6e1c8fa2"
      },
      "source": [
        "<h2>When was this Tweet created?</h2>\n"
      ]
    },
    {
      "cell_type": "code",
      "execution_count": 60,
      "id": "1a227046",
      "metadata": {
        "id": "1a227046",
        "colab": {
          "base_uri": "https://localhost:8080/",
          "height": 35
        },
        "outputId": "56051ba9-f2fe-449f-c1f9-da96f0b630b5"
      },
      "outputs": [
        {
          "output_type": "execute_result",
          "data": {
            "text/plain": [
              "'2019-12-31T19:26:16.000Z'"
            ],
            "application/vnd.google.colaboratory.intrinsic+json": {
              "type": "string"
            }
          },
          "metadata": {},
          "execution_count": 60
        }
      ],
      "source": [
        "time_created=data[\"data\"][0][\"created_at\"]\n",
        "time_created"
      ]
    },
    {
      "cell_type": "markdown",
      "id": "c83b093f",
      "metadata": {
        "id": "c83b093f"
      },
      "source": [
        "<h2>What are the <i>entities</i> of this Tweet?</h2>\n",
        "<font size=\"+1\">\n",
        "    <br>\n",
        "    Entities are JSON objects that provide additional information about hashtags, urls, user mentions, and cashtags associated with the description.\n",
        "    <br>\n",
        "    <br>\n",
        "    <ul>\n",
        "        <li>How many users does the Tweet mention? What are their names?</li>\n",
        "        <br>\n",
        "        <li>How many URLs does the Tweet mentions? What are they?</li>\n",
        "        <br>\n",
        "        <li>How many hashtags does the Tweet have?</li>\n",
        "        <br>\n",
        "    </ul>\n",
        "</font>"
      ]
    },
    {
      "cell_type": "code",
      "execution_count": null,
      "id": "d6f0f3ce",
      "metadata": {
        "id": "d6f0f3ce"
      },
      "outputs": [],
      "source": [
        "#######################################################################################\n",
        "# This is very open ended, and subject to interpretation.\n",
        "# In particular, you could use the 'context_annotations' key, or other keys in the data.\n",
        "#######################################################################################"
      ]
    },
    {
      "cell_type": "code",
      "execution_count": 63,
      "id": "ce0610a4",
      "metadata": {
        "id": "ce0610a4",
        "colab": {
          "base_uri": "https://localhost:8080/"
        },
        "outputId": "ad3eed6b-7a08-4508-ea5c-afecd1c85ea6"
      },
      "outputs": [
        {
          "output_type": "execute_result",
          "data": {
            "text/plain": [
              "{'urls': [{'start': 222,\n",
              "   'end': 245,\n",
              "   'url': 'https://t.co/yvxdK6aOo2',\n",
              "   'expanded_url': 'https://twitter.com/LovesNandos/status/1211797914437259264/photo/1',\n",
              "   'display_url': 'pic.twitter.com/yvxdK6aOo2'}],\n",
              " 'annotations': [{'start': 144,\n",
              "   'end': 150,\n",
              "   'probability': 0.626,\n",
              "   'type': 'Product',\n",
              "   'normalized_text': 'Twitter'}]}"
            ]
          },
          "metadata": {},
          "execution_count": 63
        }
      ],
      "source": [
        "data[\"data\"][0][\"entities\"]"
      ]
    },
    {
      "cell_type": "code",
      "execution_count": 62,
      "id": "363582e3",
      "metadata": {
        "id": "363582e3",
        "colab": {
          "base_uri": "https://localhost:8080/"
        },
        "outputId": "9fa32a26-93da-45f8-b0f3-7b7de77fdd11"
      },
      "outputs": [
        {
          "output_type": "execute_result",
          "data": {
            "text/plain": [
              "[{'domain': {'id': '119',\n",
              "   'name': 'Holiday',\n",
              "   'description': 'Holidays like Christmas or Halloween'},\n",
              "  'entity': {'id': '1186637514896920576', 'name': ' New Years Eve'}},\n",
              " {'domain': {'id': '119',\n",
              "   'name': 'Holiday',\n",
              "   'description': 'Holidays like Christmas or Halloween'},\n",
              "  'entity': {'id': '1206982436287963136',\n",
              "   'name': 'Happy New Year: It’s finally 2020 everywhere!',\n",
              "   'description': 'Catch fireworks and other celebrations as people across the globe enter the new year.\\nPhoto via @GettyImages '}},\n",
              " {'domain': {'id': '46',\n",
              "   'name': 'Brand Category',\n",
              "   'description': 'Categories within Brand Verticals that narrow down the scope of Brands'},\n",
              "  'entity': {'id': '781974596752842752', 'name': 'Services'}},\n",
              " {'domain': {'id': '47',\n",
              "   'name': 'Brand',\n",
              "   'description': 'Brands and Companies'},\n",
              "  'entity': {'id': '10045225402', 'name': 'Twitter'}},\n",
              " {'domain': {'id': '119',\n",
              "   'name': 'Holiday',\n",
              "   'description': 'Holidays like Christmas or Halloween'},\n",
              "  'entity': {'id': '1206982436287963136',\n",
              "   'name': 'Happy New Year: It’s finally 2020 everywhere!',\n",
              "   'description': 'Catch fireworks and other celebrations as people across the globe enter the new year.\\nPhoto via @GettyImages '}}]"
            ]
          },
          "metadata": {},
          "execution_count": 62
        }
      ],
      "source": [
        "data[\"data\"][0][\"context_annotations\"]"
      ]
    },
    {
      "cell_type": "code",
      "source": [
        "#How many users does the Tweet mentions? What are they?\n",
        "User_mentioned=\"user_mentions\" in data[\"data\"][0][\"entities\"].keys()\n",
        "if User_mentioned is False:\n",
        "  print(\"No user has been mentioned in the Tweet.\")\n",
        "else:\n",
        "  print('The Tweet mentions {} other user(s).'.format(len(data[\"data\"][0]['user_mentions'])))\n"
      ],
      "metadata": {
        "colab": {
          "base_uri": "https://localhost:8080/"
        },
        "id": "gSmEuFa_Ceof",
        "outputId": "f661046b-44c6-47df-d60b-65eac5832570"
      },
      "id": "gSmEuFa_Ceof",
      "execution_count": 68,
      "outputs": [
        {
          "output_type": "stream",
          "name": "stdout",
          "text": [
            "No user has been mentioned in the Tweet.\n"
          ]
        }
      ]
    },
    {
      "cell_type": "code",
      "execution_count": 66,
      "id": "ca8c1b55",
      "metadata": {
        "id": "ca8c1b55",
        "colab": {
          "base_uri": "https://localhost:8080/"
        },
        "outputId": "cb6560ee-d892-40fe-eb49-51d7a7e98f0f"
      },
      "outputs": [
        {
          "output_type": "stream",
          "name": "stdout",
          "text": [
            "The Tweet mentions 1 URL(s).\n",
            "The URL(s) is/are https://t.co/yvxdK6aOo2.\n"
          ]
        }
      ],
      "source": [
        "#How many URLs does the Tweet mentions? What are they?\n",
        "if len(data[\"data\"][0]['entities']['urls']) > 0:\n",
        "        print('The Tweet mentions {} URL(s).'.format(len(data[\"data\"][0]['entities']['urls'])))\n",
        "        urls = data[\"data\"][0]['entities']['urls'][0][\"url\"]\n",
        "        print('The URL(s) is/are {}.'.format(urls))\n",
        "else:\n",
        "    print('The Tweet mentions {} URL(s).'.format(len(data[\"data\"][0]['entities']['urls'])))"
      ]
    },
    {
      "cell_type": "code",
      "execution_count": 70,
      "id": "fd410434",
      "metadata": {
        "id": "fd410434",
        "colab": {
          "base_uri": "https://localhost:8080/"
        },
        "outputId": "864ffa9c-ba7d-47ba-a2ca-8b26e6dc44c4"
      },
      "outputs": [
        {
          "output_type": "stream",
          "name": "stdout",
          "text": [
            "There's no hashtag in the Tweet.\n"
          ]
        }
      ],
      "source": [
        "# [hashtag for hashtag in 'hello #as then #we_have something'.split(' ') if '#' in hashtag]\n",
        "#How many hashtags does the Tweet mentions? What are they?\n",
        "hashtag_list=[hashtag for hashtag in Tweet_text_without_link.split(' ') if '#' in hashtag]\n",
        "if len(hashtag_list) ==0:\n",
        "  print(\"There's no hashtag in the Tweet.\")\n",
        "else:\n",
        "  print(f\"There's {len(hashtag_list)} in the Tweet.\")"
      ]
    },
    {
      "cell_type": "code",
      "execution_count": 94,
      "id": "9ca90d0d",
      "metadata": {
        "id": "9ca90d0d",
        "colab": {
          "base_uri": "https://localhost:8080/"
        },
        "outputId": "3f36d98d-bb38-453c-8558-0bd0e8c205b4"
      },
      "outputs": [
        {
          "output_type": "stream",
          "name": "stdout",
          "text": [
            "There are 5 different domains in total:\n",
            "3 Holiday domain\n",
            "1 Brand Category domain\n",
            "1 Brand domain\n"
          ]
        }
      ],
      "source": [
        "#How many domain does the Tweet contains? What are they?\n",
        "domain_num=len(data[\"data\"][0][\"context_annotations\"])\n",
        "domain_num\n",
        "domain_list=data[\"data\"][0][\"context_annotations\"]\n",
        "domain_counts = {}\n",
        "\n",
        "for item in domain_list:\n",
        "    domain_name = item['domain']['name']\n",
        "    if domain_name in domain_counts:\n",
        "        domain_counts[domain_name] += 1\n",
        "    else:\n",
        "        domain_counts[domain_name] = 1\n",
        "print(f\"There are {domain_num} different domains in total:\")\n",
        "for key in domain_counts.keys():\n",
        "  print(f\"{domain_counts[key]} {key} domain\")"
      ]
    }
  ],
  "metadata": {
    "hide_input": false,
    "kernelspec": {
      "display_name": "Python 3 (ipykernel)",
      "language": "python",
      "name": "python3"
    },
    "language_info": {
      "codemirror_mode": {
        "name": "ipython",
        "version": 3
      },
      "file_extension": ".py",
      "mimetype": "text/x-python",
      "name": "python",
      "nbconvert_exporter": "python",
      "pygments_lexer": "ipython3",
      "version": "3.8.8"
    },
    "toc": {
      "base_numbering": 1,
      "nav_menu": {},
      "number_sections": true,
      "sideBar": true,
      "skip_h1_title": false,
      "title_cell": "Table of Contents",
      "title_sidebar": "Contents",
      "toc_cell": false,
      "toc_position": {
        "height": "calc(100% - 180px)",
        "left": "10px",
        "top": "150px",
        "width": "320px"
      },
      "toc_section_display": true,
      "toc_window_display": true
    },
    "colab": {
      "provenance": []
    }
  },
  "nbformat": 4,
  "nbformat_minor": 5
}